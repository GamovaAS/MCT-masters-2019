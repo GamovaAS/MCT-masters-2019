{
  "nbformat": 4,
  "nbformat_minor": 0,
  "metadata": {
    "colab": {
      "name": "HW1.ipynb",
      "version": "0.3.2",
      "provenance": [],
      "collapsed_sections": [
        "INuQLe5cjPmH",
        "D7qDdoLakjzv",
        "pZMWl0h2pgah",
        "lF0Rg_fBpgng",
        "vxotzcQYpgyJ",
        "1g052YG6xScU"
      ],
      "toc_visible": true,
      "include_colab_link": true
    },
    "kernelspec": {
      "name": "python3",
      "display_name": "Python 3"
    }
  },
  "cells": [
    {
      "cell_type": "markdown",
      "metadata": {
        "id": "view-in-github",
        "colab_type": "text"
      },
      "source": [
        "[View in Colaboratory](https://colab.research.google.com/github/xm-repo/MCT-master-2018/blob/master/HW1.ipynb)"
      ]
    },
    {
      "metadata": {
        "id": "rfDIchzh01od",
        "colab_type": "toc"
      },
      "cell_type": "markdown",
      "source": [
        ">[Задание 1](#updateTitle=true&folderId=1Dt5zFJgwOlmx41n9GONidopsgScQfGKC&scrollTo=INuQLe5cjPmH)\n",
        "\n",
        ">[Задание 2](#updateTitle=true&folderId=1Dt5zFJgwOlmx41n9GONidopsgScQfGKC&scrollTo=D7qDdoLakjzv)\n",
        "\n",
        ">[Задание 3](#updateTitle=true&folderId=1Dt5zFJgwOlmx41n9GONidopsgScQfGKC&scrollTo=pZMWl0h2pgah)\n",
        "\n",
        ">[Задание 4](#updateTitle=true&folderId=1Dt5zFJgwOlmx41n9GONidopsgScQfGKC&scrollTo=lF0Rg_fBpgng)\n",
        "\n",
        ">[Задание 5](#updateTitle=true&folderId=1Dt5zFJgwOlmx41n9GONidopsgScQfGKC&scrollTo=vxotzcQYpgyJ)\n",
        "\n",
        ">[Задание 6](#updateTitle=true&folderId=1Dt5zFJgwOlmx41n9GONidopsgScQfGKC&scrollTo=1g052YG6xScU)\n",
        "\n",
        ">[Задание 7](#updateTitle=true&folderId=1Dt5zFJgwOlmx41n9GONidopsgScQfGKC&scrollTo=mfhvLDvAxVUs)\n",
        "\n"
      ]
    },
    {
      "metadata": {
        "id": "INuQLe5cjPmH",
        "colab_type": "text"
      },
      "cell_type": "markdown",
      "source": [
        "# Задание 1"
      ]
    },
    {
      "metadata": {
        "id": "Kuoem11sgIsN",
        "colab_type": "text"
      },
      "cell_type": "markdown",
      "source": [
        "\\begin{equation}\n",
        "    \\text{Найти } C = 2(A+B)(B-A)\n",
        "    \\end{equation}\n",
        "\\begin{equation}\n",
        "    \\text{если }\n",
        "    A = \n",
        "    \\begin{pmatrix}\n",
        "        2 & 3 & -1 \\\\\n",
        "        4 & 5 & 2 \\\\\n",
        "        -1 & 0 & 7 \n",
        "    \\end{pmatrix}\n",
        "    B = \n",
        "    \\begin{pmatrix}\n",
        "        -1 & 0 & 5 \\\\\n",
        "        0 & 1 & 3 \\\\\n",
        "        2 & -2 & 4 \n",
        "    \\end{pmatrix}\n",
        "\\end{equation}"
      ]
    },
    {
      "metadata": {
        "id": "S-idxP48jKqB",
        "colab_type": "code",
        "colab": {}
      },
      "cell_type": "code",
      "source": [
        "import numpy as np\n",
        "\n",
        "A = np.matrix([[2, 3, -1], [4, 5, 2], [-1, 0, 7]])\n",
        "B = np.matrix([[-1, 0, 5], [0, 1, 3], [2, -2, 4]])\n",
        "print(\"A = \\n\", A)\n",
        "print(\"B = \\n\", B)\n",
        "print(\"C = 2 * (A + B) * (B - A) = \\n\", 2 * (A + B) * (B - A))"
      ],
      "execution_count": 0,
      "outputs": []
    },
    {
      "metadata": {
        "id": "D7qDdoLakjzv",
        "colab_type": "text"
      },
      "cell_type": "markdown",
      "source": [
        "# Задание 2"
      ]
    },
    {
      "metadata": {
        "id": "cjAOi0gdmJY4",
        "colab_type": "text"
      },
      "cell_type": "markdown",
      "source": [
        "\\begin{equation}\n",
        "    \\text{Найти } B=A^{-1}\n",
        "    \\end{equation}\n",
        "\\begin{equation}\n",
        "    \\text{если }\n",
        "    A = \n",
        "    \\begin{pmatrix}\n",
        "        4 & -3 & 2 \\\\\n",
        "        2 & 5 & -3 \\\\\n",
        "        5 & 6 & -2 \n",
        "    \\end{pmatrix}\n",
        "\\end{equation}"
      ]
    },
    {
      "metadata": {
        "id": "XO6IGRYGkn98",
        "colab_type": "code",
        "colab": {}
      },
      "cell_type": "code",
      "source": [
        "from sympy import *\n",
        "\n",
        "A = Matrix(( [4, -3, 2], [2, 5, -3], [5, 6, -2] ))\n",
        "B = A.inv()\n",
        "print(\"A = \\n\") \n",
        "pprint(A)\n",
        "print(\"B = \\n\") \n",
        "pprint(B)\n",
        "print(\"A * B = \\n\") \n",
        "pprint(A*B)"
      ],
      "execution_count": 0,
      "outputs": []
    },
    {
      "metadata": {
        "id": "pZMWl0h2pgah",
        "colab_type": "text"
      },
      "cell_type": "markdown",
      "source": [
        "# Задание 3"
      ]
    },
    {
      "metadata": {
        "id": "Y8esSA6crajx",
        "colab_type": "text"
      },
      "cell_type": "markdown",
      "source": [
        "\\begin{equation}\n",
        "    \\text{Найти определитель} \n",
        "    \\begin{vmatrix}\n",
        "        1 & 2 & 3 & 4 \\\\\n",
        "        2 & 1 & 2 & 3 \\\\\n",
        "        3 & 2 & 1 & 2 \\\\\n",
        "        4 & 3 & 2 & 1 \n",
        "    \\end{vmatrix}\n",
        "\\end{equation}"
      ]
    },
    {
      "metadata": {
        "id": "3pwiTXjTryYa",
        "colab_type": "code",
        "colab": {}
      },
      "cell_type": "code",
      "source": [
        "from sympy import *\n",
        "\n",
        "A = Matrix(( [1, 2, 3, 4], [2, 1, 2, 3], [3, 2, 1, 2], [4, 3, 2, 1] ))\n",
        "X = A.det()\n",
        "print(\"|A| =\", X) "
      ],
      "execution_count": 0,
      "outputs": []
    },
    {
      "metadata": {
        "id": "lF0Rg_fBpgng",
        "colab_type": "text"
      },
      "cell_type": "markdown",
      "source": [
        "# Задание 4"
      ]
    },
    {
      "metadata": {
        "id": "JRYf2ZjBs3wS",
        "colab_type": "text"
      },
      "cell_type": "markdown",
      "source": [
        "\\begin{equation}\n",
        "    \\text{Найти определитель} \n",
        "    \\begin{vmatrix}\n",
        "        3 & 1 & 2 \\\\\n",
        "        4 & 2 & 1 \\\\        \n",
        "        -1 & 3 & 5 \n",
        "    \\end{vmatrix}\n",
        "\\end{equation}"
      ]
    },
    {
      "metadata": {
        "id": "UDokPyECs-qC",
        "colab_type": "code",
        "colab": {}
      },
      "cell_type": "code",
      "source": [
        "from sympy import *\n",
        "\n",
        "A = Matrix(( [3, 1, 2], [4, 2, 1], [-1, 3, 5] ))\n",
        "X = A.det()\n",
        "print(\"|A| =\", X) "
      ],
      "execution_count": 0,
      "outputs": []
    },
    {
      "metadata": {
        "id": "vxotzcQYpgyJ",
        "colab_type": "text"
      },
      "cell_type": "markdown",
      "source": [
        "# Задание 5"
      ]
    },
    {
      "metadata": {
        "id": "Jz9mTpf_wC5T",
        "colab_type": "text"
      },
      "cell_type": "markdown",
      "source": [
        "\\begin{equation}\n",
        "    \\text{Найти ранг матрицы } \n",
        "    \\begin{pmatrix}\n",
        "        2 & -6 & 2 & 2 \\\\\n",
        "        1 & 3 & 5 & 7 \\\\\n",
        "        -3 & 5 & 7 & 1 \\\\\n",
        "        5 & -7 & 1 & 3         \n",
        "    \\end{pmatrix}\n",
        "\\end{equation}"
      ]
    },
    {
      "metadata": {
        "id": "62-GOUN6wTzC",
        "colab_type": "code",
        "colab": {}
      },
      "cell_type": "code",
      "source": [
        "import numpy as np\n",
        "\n",
        "A = np.matrix([[2, -6, 2, 2], [1, 3, 5, 7], [-3, 5, 7, 1], [5, -7, 1, 3]])\n",
        "rkA = np.linalg.matrix_rank(A)\n",
        "dtA = np.linalg.det(A)\n",
        "\n",
        "print(\"rank A =\", rkA) \n",
        "print(\"detr A =\", dtA) "
      ],
      "execution_count": 0,
      "outputs": []
    },
    {
      "metadata": {
        "id": "1g052YG6xScU",
        "colab_type": "text"
      },
      "cell_type": "markdown",
      "source": [
        "# Задание 6"
      ]
    },
    {
      "metadata": {
        "id": "qA1mXb3FxmVj",
        "colab_type": "text"
      },
      "cell_type": "markdown",
      "source": [
        "\\begin{equation}\n",
        "    \\text{Решить систему уравнений } \n",
        "    \\begin{cases}     \n",
        "        x - y = 4 \\\\\n",
        "        2x + 3y + z = 1 \\\\ \n",
        "        2x+y+z=5\n",
        "    \\end{cases}\n",
        "\\end{equation}"
      ]
    },
    {
      "metadata": {
        "id": "7_67Oj5gyS9k",
        "colab_type": "code",
        "colab": {}
      },
      "cell_type": "code",
      "source": [
        "\n",
        "from sympy import *\n",
        "\n",
        "x, y, z  = symbols('x y z')\n",
        "r = linsolve([x - y - 4, 2*x + 3*y + z - 1, 2*x + y + z - 5], (x, y, z))\n",
        "print(r)"
      ],
      "execution_count": 0,
      "outputs": []
    },
    {
      "metadata": {
        "id": "mfhvLDvAxVUs",
        "colab_type": "text"
      },
      "cell_type": "markdown",
      "source": [
        "# Задание 7"
      ]
    },
    {
      "metadata": {
        "id": "cvA2KC1SzGu7",
        "colab_type": "text"
      },
      "cell_type": "markdown",
      "source": [
        "\\begin{equation}\n",
        "    \\text{Решить систему уравнений } \n",
        "    \\begin{cases}     \n",
        "        2x + 3y + z = 1 \\\\\n",
        "        x + z = 0 \\\\ \n",
        "        x-y-z=2\n",
        "    \\end{cases}\n",
        "\\end{equation}"
      ]
    },
    {
      "metadata": {
        "id": "r-9h4WjdzPHj",
        "colab_type": "code",
        "colab": {}
      },
      "cell_type": "code",
      "source": [
        "from sympy import *\n",
        "\n",
        "x, y, z  = symbols('x y z')\n",
        "A = Matrix(( [2, 3, 1, 1], [1, 0, 1, 0], [1, -1, -1, 2] ))\n",
        "r = solve_linear_system(A, x, y, z)\n",
        "print(r)"
      ],
      "execution_count": 0,
      "outputs": []
    }
  ]
}