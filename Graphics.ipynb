import numpy as np
import matplotlib.pyplot as plt

x=np.arange(-10,10.01,0.01) #Массив значений аргумента
plt.plot(x,x**2) #Построение графика
plt.show() #Показать график
